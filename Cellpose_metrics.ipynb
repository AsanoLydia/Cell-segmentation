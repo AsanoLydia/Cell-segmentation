{
 "cells": [
  {
   "cell_type": "code",
   "execution_count": 2,
   "id": "20d44c28-3f58-4fd8-9128-db970b0f9220",
   "metadata": {},
   "outputs": [],
   "source": [
    "import numpy as np\n",
    "import matplotlib.pyplot as plt\n",
    "from cellpose import models, io, metrics\n",
    "from cellpose.io import imread\n",
    "import os"
   ]
  },
  {
   "cell_type": "code",
   "execution_count": 2,
   "id": "b345fc0c-58bf-4c17-b488-6e687ee19fd3",
   "metadata": {},
   "outputs": [],
   "source": [
    "def get_filename(filename):\n",
    "    filename_with_ex = os.path.basename(filename).replace(':', '_').replace('\\\\', '_').replace('/', '_').replace('?', '_').replace('*', '_').replace('[', '_').replace(']', '_')\n",
    "    filename_clear = os.path.splitext(filename_with_ex)[0]\n",
    "    filename_clear = filename_clear[:9]\n",
    "    return filename_clear"
   ]
  },
  {
   "cell_type": "code",
   "execution_count": 3,
   "id": "6eaffaa6-c225-4bc0-ad57-c09fa46750a7",
   "metadata": {},
   "outputs": [],
   "source": [
    "# Load mask_true and mask_pred\n",
    "filepath_mask_true = \"C:/Users/14495/OneDrive - KTH/test data/mask_true\"\n",
    "filepath_mask_pred = \"C:/Users/14495/OneDrive - KTH/HepG2_cells results\"\n",
    "\n",
    "files_mask_true = io.get_image_files(filepath_mask_true,\"_mask_true.tif\")\n",
    "\n",
    "# Extract image names from mask_true names\n",
    "filenames_for_filtering = [filepath_mask_pred +'/'+ get_filename(f) for f in files_mask_true]\n",
    "# Get the corresponding mask_pred names\n",
    "files_mask_pred,_ = io.get_label_files(filenames_for_filtering, \"_cp_masks\")"
   ]
  },
  {
   "cell_type": "code",
   "execution_count": 5,
   "id": "48c1606b-934c-4571-ba29-7d43490c9f9b",
   "metadata": {},
   "outputs": [
    {
     "name": "stdout",
     "output_type": "stream",
     "text": [
      "['C:/Users/14495/OneDrive - KTH/HepG2_cells results/B2_01_3_1_cp_masks.tif', 'C:/Users/14495/OneDrive - KTH/HepG2_cells results/B2_01_3_2_cp_masks.tif', 'C:/Users/14495/OneDrive - KTH/HepG2_cells results/B2_01_3_3_cp_masks.tif']\n"
     ]
    }
   ],
   "source": [
    "print(files_mask_pred)"
   ]
  },
  {
   "cell_type": "code",
   "execution_count": 5,
   "id": "1df001ba-edfa-46fd-9407-264bce013fe5",
   "metadata": {},
   "outputs": [],
   "source": [
    "# Read the mask files\n",
    "mask_true = [imread(f) for f in files_mask_true]\n",
    "mask_pred = [imread(f) for f in files_mask_pred]"
   ]
  },
  {
   "cell_type": "code",
   "execution_count": null,
   "id": "21e4b3bb-0ce9-4e2e-b079-883eafdb50a6",
   "metadata": {},
   "outputs": [],
   "source": [
    "binary_masks = []\n",
    "for mask in mask_pred:\n",
    "    binary_mask = mask.copy()\n",
    "    binary_mask[binary_mask > 0] = 255\n",
    "    binary_masks.append(binary_mask)"
   ]
  },
  {
   "cell_type": "code",
   "execution_count": 7,
   "id": "3cd779a8-02ea-468b-8788-7c7980c3f872",
   "metadata": {},
   "outputs": [],
   "source": [
    "ap, tp, fp, fn = metrics.average_precision(mask_true, mask_pred, threshold = [0.5,0.7])"
   ]
  },
  {
   "cell_type": "code",
   "execution_count": 8,
   "id": "bcac593d-43be-42fb-bc2f-12c8e2839972",
   "metadata": {},
   "outputs": [
    {
     "name": "stdout",
     "output_type": "stream",
     "text": [
      "[[0. 0.]\n",
      " [0. 0.]\n",
      " [1. 1.]]\n",
      "[[130. 130.]\n",
      " [148. 148.]\n",
      " [  0.   0.]]\n",
      "[[ 0.  0.]\n",
      " [ 0.  0.]\n",
      " [79. 79.]]\n",
      "[[255. 255.]\n",
      " [255. 255.]\n",
      " [  0.   0.]]\n"
     ]
    }
   ],
   "source": [
    "print(ap)\n",
    "print(fp)\n",
    "print(tp)\n",
    "print(fn)"
   ]
  },
  {
   "cell_type": "code",
   "execution_count": 9,
   "id": "24abdb2d-952e-4828-90ae-eb11706ed4d4",
   "metadata": {},
   "outputs": [
    {
     "name": "stdout",
     "output_type": "stream",
     "text": [
      "[0.01022397 0.01674282 1.        ]\n"
     ]
    }
   ],
   "source": [
    "AJI = metrics.aggregated_jaccard_index(mask_true, mask_pred)\n",
    "print(AJI)"
   ]
  },
  {
   "cell_type": "code",
   "execution_count": 15,
   "id": "425eabe7-d742-4335-b5ac-d40def17c784",
   "metadata": {},
   "outputs": [
    {
     "name": "stdout",
     "output_type": "stream",
     "text": [
      "Scale: 0.5\n",
      "Precision: 0.50\n",
      "Recall: 1.00\n"
     ]
    },
    {
     "ename": "NameError",
     "evalue": "name 'fscore' is not defined",
     "output_type": "error",
     "traceback": [
      "\u001b[1;31m---------------------------------------------------------------------------\u001b[0m",
      "\u001b[1;31mNameError\u001b[0m                                 Traceback (most recent call last)",
      "Cell \u001b[1;32mIn[15], line 7\u001b[0m\n\u001b[0;32m      5\u001b[0m \u001b[38;5;28mprint\u001b[39m(\u001b[38;5;124mf\u001b[39m\u001b[38;5;124m\"\u001b[39m\u001b[38;5;124mPrecision: \u001b[39m\u001b[38;5;132;01m{\u001b[39;00mnp\u001b[38;5;241m.\u001b[39mmean(precision[i])\u001b[38;5;132;01m:\u001b[39;00m\u001b[38;5;124m.2f\u001b[39m\u001b[38;5;132;01m}\u001b[39;00m\u001b[38;5;124m\"\u001b[39m)\n\u001b[0;32m      6\u001b[0m \u001b[38;5;28mprint\u001b[39m(\u001b[38;5;124mf\u001b[39m\u001b[38;5;124m\"\u001b[39m\u001b[38;5;124mRecall: \u001b[39m\u001b[38;5;132;01m{\u001b[39;00mnp\u001b[38;5;241m.\u001b[39mmean(recall[i])\u001b[38;5;132;01m:\u001b[39;00m\u001b[38;5;124m.2f\u001b[39m\u001b[38;5;132;01m}\u001b[39;00m\u001b[38;5;124m\"\u001b[39m)\n\u001b[1;32m----> 7\u001b[0m \u001b[38;5;28mprint\u001b[39m(\u001b[38;5;124mf\u001b[39m\u001b[38;5;124m\"\u001b[39m\u001b[38;5;124mF-score: \u001b[39m\u001b[38;5;132;01m{\u001b[39;00mnp\u001b[38;5;241m.\u001b[39mmean(fscore[i])\u001b[38;5;132;01m:\u001b[39;00m\u001b[38;5;124m.2f\u001b[39m\u001b[38;5;132;01m}\u001b[39;00m\u001b[38;5;130;01m\\n\u001b[39;00m\u001b[38;5;124m\"\u001b[39m)\n",
      "\u001b[1;31mNameError\u001b[0m: name 'fscore' is not defined"
     ]
    }
   ],
   "source": [
    "scales = [0.5]\n",
    "precision, recall, f_score = metrics.boundary_scores(mask_true, mask_pred,scales)\n",
    "for i, scale in enumerate(scales):\n",
    "    print(f\"Scale: {scale}\")\n",
    "    print(f\"Precision: {np.mean(precision[i]):.2f}\")\n",
    "    print(f\"Recall: {np.mean(recall[i]):.2f}\")\n",
    "    print(f\"F-score: {np.mean(fscore[i]):.2f}\\n\")"
   ]
  },
  {
   "cell_type": "code",
   "execution_count": 10,
   "id": "7b16e618-6f94-403e-9a08-613db7109471",
   "metadata": {},
   "outputs": [],
   "source": [
    "filepath_true = \"C:/Users/14495/OneDrive - KTH/test data/mask_true/B2_01_3_1_cp_masks_true.tif\"\n",
    "filepath_pred = \"C:/Users/14495/OneDrive - KTH/test data/mask_true/B2_01_3_1_cp_masks_true.tif\"\n",
    "#filepath_pred = \"C:/Users/14495/OneDrive - KTH/test data/HepG2 cells binary results/B2_01_3_1_cp_masks.tif\""
   ]
  },
  {
   "cell_type": "code",
   "execution_count": 11,
   "id": "18130f45-d8e7-491d-b096-8bd1e74ca856",
   "metadata": {},
   "outputs": [],
   "source": [
    "mask_true = imread(filepath_true)\n",
    "mask_pred = imread(filepath_pred)"
   ]
  },
  {
   "cell_type": "code",
   "execution_count": 12,
   "id": "b10f861c-5896-46e6-8f90-e0d0f2612aad",
   "metadata": {
    "scrolled": true
   },
   "outputs": [
    {
     "name": "stdout",
     "output_type": "stream",
     "text": [
      "[  0 255]\n"
     ]
    }
   ],
   "source": [
    "print(np.unique(mask_true))"
   ]
  },
  {
   "cell_type": "code",
   "execution_count": 13,
   "id": "92e618ac-aa5a-419c-a9cb-ed45ac8627d4",
   "metadata": {},
   "outputs": [
    {
     "name": "stdout",
     "output_type": "stream",
     "text": [
      "1.0\n"
     ]
    }
   ],
   "source": [
    "from sklearn.metrics import jaccard_score\n",
    "ji = jaccard_score(mask_true, mask_pred, average = 'micro')\n",
    "print(ji)"
   ]
  },
  {
   "cell_type": "code",
   "execution_count": null,
   "id": "ea96c765-ac13-467e-af02-35f78ebafb54",
   "metadata": {},
   "outputs": [],
   "source": []
  }
 ],
 "metadata": {
  "kernelspec": {
   "display_name": "Python 3 (ipykernel)",
   "language": "python",
   "name": "python3"
  },
  "language_info": {
   "codemirror_mode": {
    "name": "ipython",
    "version": 3
   },
   "file_extension": ".py",
   "mimetype": "text/x-python",
   "name": "python",
   "nbconvert_exporter": "python",
   "pygments_lexer": "ipython3",
   "version": "3.10.15"
  }
 },
 "nbformat": 4,
 "nbformat_minor": 5
}
