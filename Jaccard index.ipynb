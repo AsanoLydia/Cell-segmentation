{
 "cells": [
  {
   "cell_type": "code",
   "execution_count": null,
   "id": "1246b431-e976-4aba-ac25-14e5e3af43c7",
   "metadata": {},
   "outputs": [],
   "source": [
    "import numpy as np\n",
    "from cellpose import io\n",
    "from cellpose.io import imread\n",
    "from sklearn.metrics import jaccard_score\n",
    "import os"
   ]
  },
  {
   "cell_type": "code",
   "execution_count": null,
   "id": "12fdf16d-6fcf-4b4a-a191-32dc6dfd8a3b",
   "metadata": {},
   "outputs": [],
   "source": [
    "# Enter file path (binary masks)\n",
    "filepath_true = \"C:/Users/14495/OneDrive - KTH/test data/mask_true/B2_01_3_1_cp_masks_true.tif\"\n",
    "filepath_pred = \"C:/Users/14495/OneDrive - KTH/test data/mask_true/B2_01_3_1_cp_masks_true.tif\""
   ]
  },
  {
   "cell_type": "code",
   "execution_count": null,
   "id": "79d8d1ba-31b8-4964-afda-9575d3365dc9",
   "metadata": {},
   "outputs": [],
   "source": [
    "# Load the files\n",
    "mask_true = imread(filepath_true)\n",
    "mask_pred = imread(filepath_pred)"
   ]
  },
  {
   "cell_type": "code",
   "execution_count": null,
   "id": "bdd63d1f-a98e-4964-b149-f63e2254cad2",
   "metadata": {},
   "outputs": [],
   "source": [
    "# Calculate JI\n",
    "ji = jaccard_score(mask_true, mask_pred, average = 'micro')\n",
    "print(ji)"
   ]
  }
 ],
 "metadata": {
  "kernelspec": {
   "display_name": "Python 3 (ipykernel)",
   "language": "python",
   "name": "python3"
  },
  "language_info": {
   "codemirror_mode": {
    "name": "ipython",
    "version": 3
   },
   "file_extension": ".py",
   "mimetype": "text/x-python",
   "name": "python",
   "nbconvert_exporter": "python",
   "pygments_lexer": "ipython3",
   "version": "3.10.15"
  }
 },
 "nbformat": 4,
 "nbformat_minor": 5
}
